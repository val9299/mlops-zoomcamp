{
 "cells": [
  {
   "cell_type": "markdown",
   "id": "7db4f8df",
   "metadata": {},
   "source": [
    "# MLOPs Zoomcamp 2023 / 01-homework\n",
    "By Valerie G., May 2023"
   ]
  },
  {
   "cell_type": "code",
   "execution_count": null,
   "id": "090a641d",
   "metadata": {},
   "outputs": [],
   "source": [
    "import pandas as pd\n",
    "import seaborn as sns\n",
    "import matplotlib.pyplot as plt\n",
    "from sklearn.feature_extraction import DictVectorizer\n",
    "from sklearn.linear_model import LinearRegression\n",
    "from sklearn.metrics import mean_squared_error"
   ]
  },
  {
   "cell_type": "code",
   "execution_count": null,
   "id": "6b645c55",
   "metadata": {},
   "outputs": [],
   "source": [
    "def get_samples(df_cp, dataset_type, dv=DictVectorizer()):\n",
    "    df = df_cp.copy()  # to avoid warning about changing original df\n",
    "    print('dataset_type:', dataset_type)\n",
    "    num_columns = len(df.columns)  # for homework answer\n",
    "    print('num_columns:', num_columns)\n",
    "    print('num_rows:', len(df))\n",
    "    \n",
    "    # calc duration and add to df\n",
    "    df['duration'] = df.tpep_dropoff_datetime - df.tpep_pickup_datetime\n",
    "    df.duration = df.duration.apply(lambda td: td.total_seconds() / 60)  # convert to min\n",
    "    \n",
    "    # for homework answers\n",
    "    if dataset_type == 'train':\n",
    "        duration_std = df.duration.std()\n",
    "        percentage_not_outliers = ((df.duration >= 1) & (df.duration <= 60)).mean() * 100\n",
    "\n",
    "    # remove outliers\n",
    "    df = df[(df.duration >= 1) & (df.duration <= 60)]\n",
    "    \n",
    "    # pic feature columns and convert them to dictionaries\n",
    "    location_colns = ['PULocationID', 'DOLocationID']\n",
    "    df[location_colns] = df[location_colns].astype(str)\n",
    "    input_dicts = df[location_colns].to_dict(orient='records')\n",
    "    \n",
    "    # convert dict to input features for the model\n",
    "    if dataset_type == 'train':\n",
    "        inputs = dv.fit_transform(input_dicts)\n",
    "    else:\n",
    "        inputs = dv.transform(input_dicts)\n",
    "    print('inputs.shape', inputs.shape)\n",
    "        \n",
    "    # pic target column and get its values\n",
    "    target_coln = 'duration'\n",
    "    targets = df[target_coln].values\n",
    "    print('targets.shape', targets.shape)\n",
    "    \n",
    "    # print homework answers\n",
    "    if dataset_type == 'train': \n",
    "        print('\\nQ1:', num_columns)\n",
    "        print('Q2:', duration_std)\n",
    "        print('Q3:', percentage_not_outliers)\n",
    "        matrix_dim = len(inputs.shape)\n",
    "        print('Q4:', matrix_dim, '\\n')\n",
    "    \n",
    "    return inputs, targets, dv\n",
    "\n",
    "\n",
    "def evaluate_model(model, inputs, targets):\n",
    "    preds = model.predict(inputs)  # predict\n",
    "    rmse = mean_squared_error(targets, preds, squared=False)  # evaluate\n",
    "    return rmse"
   ]
  },
  {
   "cell_type": "code",
   "execution_count": null,
   "id": "a62d1575",
   "metadata": {},
   "outputs": [],
   "source": [
    "# read data\n",
    "df_train = pd.read_parquet('./yellow_tripdata_2022-01.parquet')\n",
    "df_val = pd.read_parquet('./yellow_tripdata_2022-02.parquet')\n",
    "\n",
    "# show data\n",
    "df_train"
   ]
  },
  {
   "cell_type": "code",
   "execution_count": null,
   "id": "16e9969a",
   "metadata": {},
   "outputs": [],
   "source": [
    "# load dataset for model\n",
    "X_train, y_train, dv = get_samples(df_train, dataset_type='train')\n",
    "X_val, y_val, _ = get_samples(df_val, dataset_type='val', dv=dv)"
   ]
  },
  {
   "cell_type": "markdown",
   "id": "299a2b90",
   "metadata": {},
   "source": [
    "Output:\n",
    "```\n",
    "dataset_type: train\n",
    "num_columns: 19\n",
    "num_rows: 2463931\n",
    "inputs.shape (2421440, 515)\n",
    "targets.shape (2421440,)\n",
    "\n",
    "Q1: 19\n",
    "Q2: 46.44530513776499\n",
    "Q3: 98.27547930522405\n",
    "Q4: 2 \n",
    "\n",
    "dataset_type: val\n",
    "num_columns: 19\n",
    "num_rows: 2979431\n",
    "inputs.shape (2918187, 515)\n",
    "targets.shape (2918187,)\n",
    "```"
   ]
  },
  {
   "cell_type": "code",
   "execution_count": null,
   "id": "53deeb28",
   "metadata": {},
   "outputs": [],
   "source": [
    "# train model\n",
    "model = LinearRegression()\n",
    "model.fit(X_train, y_train)"
   ]
  },
  {
   "cell_type": "code",
   "execution_count": null,
   "id": "675b7c95",
   "metadata": {},
   "outputs": [],
   "source": [
    "# evaluate\n",
    "rmse_train = evaluate_model(model, X_train, y_train)  # on train set\n",
    "print('Q5:', rmse_train)\n",
    "rmse_val = evaluate_model(model, X_val, y_val)  # on validation set\n",
    "print('Q6:', rmse_val)"
   ]
  },
  {
   "cell_type": "markdown",
   "id": "e34201a2",
   "metadata": {},
   "source": [
    "Output:\n",
    "```\n",
    "Q5: 6.98619083458946\n",
    "Q6: 7.78640785205543\n",
    "```"
   ]
  }
 ],
 "metadata": {
  "kernelspec": {
   "display_name": "Python 3 (ipykernel)",
   "language": "python",
   "name": "python3"
  },
  "language_info": {
   "codemirror_mode": {
    "name": "ipython",
    "version": 3
   },
   "file_extension": ".py",
   "mimetype": "text/x-python",
   "name": "python",
   "nbconvert_exporter": "python",
   "pygments_lexer": "ipython3",
   "version": "3.11.3"
  }
 },
 "nbformat": 4,
 "nbformat_minor": 5
}
